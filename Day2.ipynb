{
 "cells": [
  {
   "cell_type": "markdown",
   "metadata": {},
   "source": [
    "# Today Topics\n",
    "+ Execution of commands in python shell\n",
    "+ Datatypes\n",
    "    + int\n",
    "    + float\n",
    "    + string\n",
    "    + boolean\n",
    "    + complex\n",
    "+ I/P and O/P\n",
    "+ Programs written in Notepad\n",
    "+ Program execution in IDLE\n",
    "+ Program execution in commandprompt\n",
    "+ Git Hub Account Creation"
   ]
  },
  {
   "cell_type": "code",
   "execution_count": null,
   "metadata": {},
   "outputs": [],
   "source": []
  }
 ],
 "metadata": {
  "kernelspec": {
   "display_name": "Python 3",
   "language": "python",
   "name": "python3"
  },
  "language_info": {
   "codemirror_mode": {
    "name": "ipython",
    "version": 3
   },
   "file_extension": ".py",
   "mimetype": "text/x-python",
   "name": "python",
   "nbconvert_exporter": "python",
   "pygments_lexer": "ipython3",
   "version": "3.7.3"
  }
 },
 "nbformat": 4,
 "nbformat_minor": 2
}
